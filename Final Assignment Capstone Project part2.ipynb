{
 "cells": [
  {
   "cell_type": "markdown",
   "metadata": {},
   "source": [
    "# 1. Introduction\n",
    "## Problem\n",
    "We are interest in know the sales price of residential homes in Ames, Iowa giving the homes attributes.\n",
    "\n",
    "And with that we could know which neighborhood has more offers for a price range of 100,000 to 250,000."
   ]
  },
  {
   "cell_type": "markdown",
   "metadata": {},
   "source": [
    "# 2. Data acquisition\n",
    "## Data source\n",
    "For this project we need the following data that we could get from kaggle in this [link](https://www.kaggle.com/c/house-prices-advanced-regression-techniques/data), which contains all base data that we need.\n",
    "\n",
    "## Data structure\n",
    "Here's a brief version of the data description files.\n",
    "* `SalePrice` - the property's sale price in dollars. This is the target variable that you're trying to predict.\n",
    "* `MSSubClass` - The building class\n",
    "* `MSZoning` - The general zoning classification\n",
    "* `LotArea` - Lot size in square feet\n",
    "* `LotShape` - General shape of property\n",
    "* `LandContour` - Flatness of the property\n",
    "* `Utilities` - Type of utilities available\n",
    "* `LotConfig` - Lot configuration\n",
    "* `LandSlope` - Slope of property\n",
    "* `Neighborhood` - Physical locations within Ames city limits\n",
    "* `Condition1` - Proximity to main road or railroad\n",
    "* `Condition2` - Proximity to main road or railroad (if a second is present)\n",
    "* `BldgType` - Type of dwelling\n",
    "* `HouseStyle` - Style of dwelling\n",
    "* `OverallQual` - Overall material and finish quality\n",
    "* `OverallCond` - Overall condition rating\n",
    "* `YearBuilt` - Original construction date\n",
    "* `YearRemodAdd` - Remodel date\n",
    "* `RoofStyle` - Type of roof\n",
    "* `RoofMatl` - Roof material\n",
    "* `Exterior1st` - Exterior covering on house\n",
    "* `Exterior2nd` - Exterior covering on house (if more than one material)\n",
    "* `MasVnrType` - Masonry veneer type\n",
    "* `MasVnrArea` - Masonry veneer area in square feet\n",
    "* `ExterQual` - Exterior material quality\n",
    "* `ExterCond` - Present condition of the material on the exterior\n",
    "* `Foundation` - Type of foundation\n",
    "* `BsmtQual` - Height of the basement\n",
    "* `BsmtCond` - General condition of the basement\n",
    "* `BsmtExposure` - Walkout or garden level basement walls\n",
    "* `BsmtFinType1` - Quality of basement finished area\n",
    "* `BsmtFinSF1` - Type 1 finished square feet\n",
    "* `BsmtFinType2` - Quality of second finished area (if present)\n",
    "* `BsmtFinSF2` - Type 2 finished square feet\n",
    "* `BsmtUnfSF` - Unfinished square feet of basement area\n",
    "* `TotalBsmtSF` - Total square feet of basement area\n",
    "* `Heating` - Type of heating\n",
    "* `HeatingQC` - Heating quality and condition\n",
    "* `CentralAir` - Central air conditioning\n",
    "* `Electrical` - Electrical system\n",
    "* `1stFlrSF` - First Floor square feet\n",
    "* `2ndFlrSF` - Second floor square feet\n",
    "* `LowQualFinSF` - Low quality finished square feet (all floors)\n",
    "* `GrLivArea` - Above grade (ground) living area square feet\n",
    "* `BsmtFullBath` - Basement full bathrooms\n",
    "* `BsmtHalfBath` - Basement half bathrooms\n",
    "* `FullBath` - Full bathrooms above grade\n",
    "* `HalfBath` - Half baths above grade\n",
    "* `Bedroom` - Number of bedrooms above basement level\n",
    "* `Kitchen` - Number of kitchens\n",
    "* `KitchenQual` - Kitchen quality\n",
    "* `TotRmsAbvGrd` - Total rooms above grade (does not include bathrooms)\n",
    "* `Functional` - Home functionality rating\n",
    "* `Fireplaces` - Number of fireplaces\n",
    "* `FireplaceQu` - Fireplace quality\n",
    "* `GarageType` - Garage location\n",
    "* `GarageYrBlt` - Year garage was built\n",
    "* `GarageFinish` - Interior finish of the garage\n",
    "* `GarageCars` - Size of garage in car capacity\n",
    "* `GarageArea` - Size of garage in square feet\n",
    "* `GarageQual` - Garage quality\n",
    "* `GarageCond` - Garage condition\n",
    "* `PavedDrive` - Paved driveway\n",
    "* `WoodDeckSF` - Wood deck area in square feet\n",
    "* `OpenPorchSF` - Open porch area in square feet\n",
    "* `EnclosedPorch` - Enclosed porch area in square feet\n",
    "* `3SsnPorch` - Three season porch area in square feet\n",
    "* `ScreenPorch` - Screen porch area in square feet\n",
    "* `PoolArea` - Pool area in square feet\n",
    "* `MiscFeature` - Miscellaneous feature not covered in other categories\n",
    "* `MiscVal` - $Value of miscellaneous feature\n",
    "* `MoSold` - Month Sold\n",
    "* `YrSold` - Year Sold\n",
    "* `SaleType` - Type of sale\n",
    "* `SaleCondition` - Condition of sale"
   ]
  },
  {
   "cell_type": "code",
   "execution_count": 1,
   "metadata": {
    "pycharm": {
     "name": "#%%\n"
    }
   },
   "outputs": [],
   "source": [
    "import pandas as pd\n",
    "import numpy as np\n",
    "import matplotlib.pyplot as plt\n",
    "import seaborn as sns\n",
    "\n",
    "import os\n",
    "for dirname, _, filenames in os.walk('/kaggle/input'):\n",
    "    for filename in filenames:\n",
    "        print(os.path.join(dirname, filename))\n",
    "\n",
    "from sklearn.model_selection import train_test_split\n",
    "from sklearn.ensemble import GradientBoostingRegressor"
   ]
  },
  {
   "cell_type": "code",
   "execution_count": 2,
   "metadata": {
    "pycharm": {
     "name": "#%%\n"
    }
   },
   "outputs": [
    {
     "data": {
      "text/plain": "     Id  MSSubClass MSZoning  LotFrontage  LotArea Street Alley LotShape  \\\n0  1461          20       RH         80.0    11622   Pave   NaN      Reg   \n1  1462          20       RL         81.0    14267   Pave   NaN      IR1   \n2  1463          60       RL         74.0    13830   Pave   NaN      IR1   \n3  1464          60       RL         78.0     9978   Pave   NaN      IR1   \n4  1465         120       RL         43.0     5005   Pave   NaN      IR1   \n\n  LandContour Utilities  ... ScreenPorch PoolArea PoolQC  Fence MiscFeature  \\\n0         Lvl    AllPub  ...         120        0    NaN  MnPrv         NaN   \n1         Lvl    AllPub  ...           0        0    NaN    NaN        Gar2   \n2         Lvl    AllPub  ...           0        0    NaN  MnPrv         NaN   \n3         Lvl    AllPub  ...           0        0    NaN    NaN         NaN   \n4         HLS    AllPub  ...         144        0    NaN    NaN         NaN   \n\n  MiscVal MoSold  YrSold  SaleType  SaleCondition  \n0       0      6    2010        WD         Normal  \n1   12500      6    2010        WD         Normal  \n2       0      3    2010        WD         Normal  \n3       0      6    2010        WD         Normal  \n4       0      1    2010        WD         Normal  \n\n[5 rows x 80 columns]",
      "text/html": "<div>\n<style scoped>\n    .dataframe tbody tr th:only-of-type {\n        vertical-align: middle;\n    }\n\n    .dataframe tbody tr th {\n        vertical-align: top;\n    }\n\n    .dataframe thead th {\n        text-align: right;\n    }\n</style>\n<table border=\"1\" class=\"dataframe\">\n  <thead>\n    <tr style=\"text-align: right;\">\n      <th></th>\n      <th>Id</th>\n      <th>MSSubClass</th>\n      <th>MSZoning</th>\n      <th>LotFrontage</th>\n      <th>LotArea</th>\n      <th>Street</th>\n      <th>Alley</th>\n      <th>LotShape</th>\n      <th>LandContour</th>\n      <th>Utilities</th>\n      <th>...</th>\n      <th>ScreenPorch</th>\n      <th>PoolArea</th>\n      <th>PoolQC</th>\n      <th>Fence</th>\n      <th>MiscFeature</th>\n      <th>MiscVal</th>\n      <th>MoSold</th>\n      <th>YrSold</th>\n      <th>SaleType</th>\n      <th>SaleCondition</th>\n    </tr>\n  </thead>\n  <tbody>\n    <tr>\n      <th>0</th>\n      <td>1461</td>\n      <td>20</td>\n      <td>RH</td>\n      <td>80.0</td>\n      <td>11622</td>\n      <td>Pave</td>\n      <td>NaN</td>\n      <td>Reg</td>\n      <td>Lvl</td>\n      <td>AllPub</td>\n      <td>...</td>\n      <td>120</td>\n      <td>0</td>\n      <td>NaN</td>\n      <td>MnPrv</td>\n      <td>NaN</td>\n      <td>0</td>\n      <td>6</td>\n      <td>2010</td>\n      <td>WD</td>\n      <td>Normal</td>\n    </tr>\n    <tr>\n      <th>1</th>\n      <td>1462</td>\n      <td>20</td>\n      <td>RL</td>\n      <td>81.0</td>\n      <td>14267</td>\n      <td>Pave</td>\n      <td>NaN</td>\n      <td>IR1</td>\n      <td>Lvl</td>\n      <td>AllPub</td>\n      <td>...</td>\n      <td>0</td>\n      <td>0</td>\n      <td>NaN</td>\n      <td>NaN</td>\n      <td>Gar2</td>\n      <td>12500</td>\n      <td>6</td>\n      <td>2010</td>\n      <td>WD</td>\n      <td>Normal</td>\n    </tr>\n    <tr>\n      <th>2</th>\n      <td>1463</td>\n      <td>60</td>\n      <td>RL</td>\n      <td>74.0</td>\n      <td>13830</td>\n      <td>Pave</td>\n      <td>NaN</td>\n      <td>IR1</td>\n      <td>Lvl</td>\n      <td>AllPub</td>\n      <td>...</td>\n      <td>0</td>\n      <td>0</td>\n      <td>NaN</td>\n      <td>MnPrv</td>\n      <td>NaN</td>\n      <td>0</td>\n      <td>3</td>\n      <td>2010</td>\n      <td>WD</td>\n      <td>Normal</td>\n    </tr>\n    <tr>\n      <th>3</th>\n      <td>1464</td>\n      <td>60</td>\n      <td>RL</td>\n      <td>78.0</td>\n      <td>9978</td>\n      <td>Pave</td>\n      <td>NaN</td>\n      <td>IR1</td>\n      <td>Lvl</td>\n      <td>AllPub</td>\n      <td>...</td>\n      <td>0</td>\n      <td>0</td>\n      <td>NaN</td>\n      <td>NaN</td>\n      <td>NaN</td>\n      <td>0</td>\n      <td>6</td>\n      <td>2010</td>\n      <td>WD</td>\n      <td>Normal</td>\n    </tr>\n    <tr>\n      <th>4</th>\n      <td>1465</td>\n      <td>120</td>\n      <td>RL</td>\n      <td>43.0</td>\n      <td>5005</td>\n      <td>Pave</td>\n      <td>NaN</td>\n      <td>IR1</td>\n      <td>HLS</td>\n      <td>AllPub</td>\n      <td>...</td>\n      <td>144</td>\n      <td>0</td>\n      <td>NaN</td>\n      <td>NaN</td>\n      <td>NaN</td>\n      <td>0</td>\n      <td>1</td>\n      <td>2010</td>\n      <td>WD</td>\n      <td>Normal</td>\n    </tr>\n  </tbody>\n</table>\n<p>5 rows × 80 columns</p>\n</div>"
     },
     "execution_count": 2,
     "metadata": {},
     "output_type": "execute_result"
    }
   ],
   "source": [
    "test_df_path = \"test.csv\"\n",
    "test_df = pd.read_csv(test_df_path)\n",
    "test_df.head()"
   ]
  },
  {
   "cell_type": "code",
   "execution_count": 3,
   "metadata": {
    "pycharm": {
     "name": "#%%\n"
    }
   },
   "outputs": [
    {
     "data": {
      "text/plain": "   Id  MSSubClass MSZoning  LotFrontage  LotArea Street Alley LotShape  \\\n0   1          60       RL         65.0     8450   Pave   NaN      Reg   \n1   2          20       RL         80.0     9600   Pave   NaN      Reg   \n2   3          60       RL         68.0    11250   Pave   NaN      IR1   \n3   4          70       RL         60.0     9550   Pave   NaN      IR1   \n4   5          60       RL         84.0    14260   Pave   NaN      IR1   \n\n  LandContour Utilities  ... PoolArea PoolQC Fence MiscFeature MiscVal MoSold  \\\n0         Lvl    AllPub  ...        0    NaN   NaN         NaN       0      2   \n1         Lvl    AllPub  ...        0    NaN   NaN         NaN       0      5   \n2         Lvl    AllPub  ...        0    NaN   NaN         NaN       0      9   \n3         Lvl    AllPub  ...        0    NaN   NaN         NaN       0      2   \n4         Lvl    AllPub  ...        0    NaN   NaN         NaN       0     12   \n\n  YrSold  SaleType  SaleCondition  SalePrice  \n0   2008        WD         Normal     208500  \n1   2007        WD         Normal     181500  \n2   2008        WD         Normal     223500  \n3   2006        WD        Abnorml     140000  \n4   2008        WD         Normal     250000  \n\n[5 rows x 81 columns]",
      "text/html": "<div>\n<style scoped>\n    .dataframe tbody tr th:only-of-type {\n        vertical-align: middle;\n    }\n\n    .dataframe tbody tr th {\n        vertical-align: top;\n    }\n\n    .dataframe thead th {\n        text-align: right;\n    }\n</style>\n<table border=\"1\" class=\"dataframe\">\n  <thead>\n    <tr style=\"text-align: right;\">\n      <th></th>\n      <th>Id</th>\n      <th>MSSubClass</th>\n      <th>MSZoning</th>\n      <th>LotFrontage</th>\n      <th>LotArea</th>\n      <th>Street</th>\n      <th>Alley</th>\n      <th>LotShape</th>\n      <th>LandContour</th>\n      <th>Utilities</th>\n      <th>...</th>\n      <th>PoolArea</th>\n      <th>PoolQC</th>\n      <th>Fence</th>\n      <th>MiscFeature</th>\n      <th>MiscVal</th>\n      <th>MoSold</th>\n      <th>YrSold</th>\n      <th>SaleType</th>\n      <th>SaleCondition</th>\n      <th>SalePrice</th>\n    </tr>\n  </thead>\n  <tbody>\n    <tr>\n      <th>0</th>\n      <td>1</td>\n      <td>60</td>\n      <td>RL</td>\n      <td>65.0</td>\n      <td>8450</td>\n      <td>Pave</td>\n      <td>NaN</td>\n      <td>Reg</td>\n      <td>Lvl</td>\n      <td>AllPub</td>\n      <td>...</td>\n      <td>0</td>\n      <td>NaN</td>\n      <td>NaN</td>\n      <td>NaN</td>\n      <td>0</td>\n      <td>2</td>\n      <td>2008</td>\n      <td>WD</td>\n      <td>Normal</td>\n      <td>208500</td>\n    </tr>\n    <tr>\n      <th>1</th>\n      <td>2</td>\n      <td>20</td>\n      <td>RL</td>\n      <td>80.0</td>\n      <td>9600</td>\n      <td>Pave</td>\n      <td>NaN</td>\n      <td>Reg</td>\n      <td>Lvl</td>\n      <td>AllPub</td>\n      <td>...</td>\n      <td>0</td>\n      <td>NaN</td>\n      <td>NaN</td>\n      <td>NaN</td>\n      <td>0</td>\n      <td>5</td>\n      <td>2007</td>\n      <td>WD</td>\n      <td>Normal</td>\n      <td>181500</td>\n    </tr>\n    <tr>\n      <th>2</th>\n      <td>3</td>\n      <td>60</td>\n      <td>RL</td>\n      <td>68.0</td>\n      <td>11250</td>\n      <td>Pave</td>\n      <td>NaN</td>\n      <td>IR1</td>\n      <td>Lvl</td>\n      <td>AllPub</td>\n      <td>...</td>\n      <td>0</td>\n      <td>NaN</td>\n      <td>NaN</td>\n      <td>NaN</td>\n      <td>0</td>\n      <td>9</td>\n      <td>2008</td>\n      <td>WD</td>\n      <td>Normal</td>\n      <td>223500</td>\n    </tr>\n    <tr>\n      <th>3</th>\n      <td>4</td>\n      <td>70</td>\n      <td>RL</td>\n      <td>60.0</td>\n      <td>9550</td>\n      <td>Pave</td>\n      <td>NaN</td>\n      <td>IR1</td>\n      <td>Lvl</td>\n      <td>AllPub</td>\n      <td>...</td>\n      <td>0</td>\n      <td>NaN</td>\n      <td>NaN</td>\n      <td>NaN</td>\n      <td>0</td>\n      <td>2</td>\n      <td>2006</td>\n      <td>WD</td>\n      <td>Abnorml</td>\n      <td>140000</td>\n    </tr>\n    <tr>\n      <th>4</th>\n      <td>5</td>\n      <td>60</td>\n      <td>RL</td>\n      <td>84.0</td>\n      <td>14260</td>\n      <td>Pave</td>\n      <td>NaN</td>\n      <td>IR1</td>\n      <td>Lvl</td>\n      <td>AllPub</td>\n      <td>...</td>\n      <td>0</td>\n      <td>NaN</td>\n      <td>NaN</td>\n      <td>NaN</td>\n      <td>0</td>\n      <td>12</td>\n      <td>2008</td>\n      <td>WD</td>\n      <td>Normal</td>\n      <td>250000</td>\n    </tr>\n  </tbody>\n</table>\n<p>5 rows × 81 columns</p>\n</div>"
     },
     "execution_count": 3,
     "metadata": {},
     "output_type": "execute_result"
    }
   ],
   "source": [
    "train_df_path = \"train.csv\"\n",
    "train_df = pd.read_csv(train_df_path)\n",
    "train_df.head()"
   ]
  },
  {
   "cell_type": "markdown",
   "metadata": {},
   "source": [
    "# Methodology"
   ]
  },
  {
   "cell_type": "markdown",
   "metadata": {
    "pycharm": {
     "name": "#%% md\n"
    }
   },
   "source": [
    "Building a heatmap to see where the missing values are focus, in the train data frame"
   ]
  },
  {
   "cell_type": "code",
   "execution_count": 4,
   "metadata": {
    "pycharm": {
     "name": "#%%\n"
    }
   },
   "outputs": [
    {
     "data": {
      "text/plain": "<Figure size 1224x360 with 2 Axes>",
      "image/png": "[encoded data removed]"
     },
     "metadata": {
      "needs_background": "light"
     },
     "output_type": "display_data"
    }
   ],
   "source": [
    "#Plotting heatmap of missing values\n",
    "plt.figure(figsize=(17, 5))\n",
    "sns.heatmap(train_df.isnull(), cmap='Accent')\n",
    "plt.xlabel(\"Column_Name\", size=14, weight=\"bold\")\n",
    "plt.title(\"Places of missing values in column\",fontweight=\"bold\",size=14)\n",
    "plt.show()"
   ]
  },
  {
   "cell_type": "markdown",
   "metadata": {},
   "source": [
    "Building a heatmap to see where the missing values are focus, in the test data frame"
   ]
  },
  {
   "cell_type": "code",
   "execution_count": 5,
   "metadata": {
    "pycharm": {
     "name": "#%%\n"
    }
   },
   "outputs": [
    {
     "data": {
      "text/plain": "<Figure size 1224x360 with 2 Axes>",
      "image/png": "[encoded data removed]"
     },
     "metadata": {
      "needs_background": "light"
     },
     "output_type": "display_data"
    }
   ],
   "source": [
    "#Plotting heatmap of missing values\n",
    "plt.figure(figsize=(17, 5))\n",
    "sns.heatmap(test_df.isnull(), cmap='Accent')\n",
    "plt.xlabel(\"Column_Name\", size=14, weight=\"bold\")\n",
    "plt.title(\"Places of missing values in column\",fontweight=\"bold\",size=14)\n",
    "plt.show()"
   ]
  },
  {
   "cell_type": "markdown",
   "metadata": {
    "pycharm": {
     "name": "#%% md\n"
    }
   },
   "source": [
    "Changing missing data to 0"
   ]
  },
  {
   "cell_type": "code",
   "execution_count": 6,
   "metadata": {
    "pycharm": {
     "name": "#%%\n"
    }
   },
   "outputs": [],
   "source": [
    "train_df = train_df.fillna(0)\n",
    "test_df = test_df.fillna(0)"
   ]
  },
  {
   "cell_type": "code",
   "execution_count": 7,
   "metadata": {
    "pycharm": {
     "name": "#%%\n"
    }
   },
   "outputs": [],
   "source": [
    "#Lets plot histogram for prices\n",
    "# train_df[\"SalePrice\"].hist()"
   ]
  },
  {
   "cell_type": "markdown",
   "metadata": {},
   "source": [
    "Since the values of price after 400,000 look so small, making an other histogram to see that espectrum to"
   ]
  },
  {
   "cell_type": "code",
   "execution_count": 8,
   "metadata": {
    "pycharm": {
     "name": "#%%\n"
    }
   },
   "outputs": [],
   "source": [
    "# train_df[\"SalePrice\"][train_df[\"SalePrice\"]>400000].hist()"
   ]
  },
  {
   "cell_type": "markdown",
   "metadata": {
    "pycharm": {
     "name": "#%% md\n"
    }
   },
   "source": [
    "Remove of unneeded columns"
   ]
  },
  {
   "cell_type": "code",
   "execution_count": 9,
   "metadata": {
    "pycharm": {
     "name": "#%%\n"
    }
   },
   "outputs": [],
   "source": [
    "# Cloumns to remove\n",
    "drop_colum = ['Id', 'PoolQC', 'Fence','MSZoning','MiscFeature','Alley', 'RoofStyle'\n",
    "    ,'Condition2','HouseStyle','RoofMatl','Exterior1st','KitchenQual','Functional'\n",
    "    ,'GarageQual','MiscFeature','SaleType','Electrical','Exterior2nd','Heating'\n",
    "    ,'Utilities']\n",
    "test_df = test_df.drop(columns=drop_colum, axis=1)\n",
    "train_df = train_df.drop(columns=drop_colum, axis=1)"
   ]
  },
  {
   "cell_type": "markdown",
   "metadata": {
    "pycharm": {
     "name": "#%% md\n"
    }
   },
   "source": [
    "Removing random row since test set is missing one row"
   ]
  },
  {
   "cell_type": "code",
   "execution_count": 10,
   "metadata": {
    "pycharm": {
     "name": "#%%\n"
    }
   },
   "outputs": [],
   "source": [
    "remove_n = 1\n",
    "drop_indices = np.random.choice(train_df.index, remove_n, replace=False)\n",
    "train_df = train_df.drop(drop_indices)\n",
    "y_train_df = train_df[['SalePrice']]\n",
    "train_df = train_df.drop('SalePrice', axis='columns')"
   ]
  },
  {
   "cell_type": "markdown",
   "metadata": {
    "pycharm": {
     "name": "#%% md\n"
    }
   },
   "source": [
    "Finding all columns with Categorical"
   ]
  },
  {
   "cell_type": "code",
   "execution_count": 11,
   "metadata": {
    "pycharm": {
     "name": "#%%\n"
    }
   },
   "outputs": [],
   "source": [
    "cat_train=[cat for cat in train_df.columns if train_df[cat].dtype=='object']\n",
    "cat_test=[cat for cat in test_df.columns if test_df[cat].dtype=='object']"
   ]
  },
  {
   "cell_type": "markdown",
   "metadata": {
    "pycharm": {
     "name": "#%% md\n"
    }
   },
   "source": [
    "Handling Categorical Data using Get_Dummies()"
   ]
  },
  {
   "cell_type": "code",
   "execution_count": 13,
   "metadata": {
    "pycharm": {
     "name": "#%%\n"
    }
   },
   "outputs": [],
   "source": [
    "train_cat_dumm= pd.get_dummies(train_df, columns=cat_train, drop_first= True)\n",
    "test_cat_dumm= pd.get_dummies(test_df, columns=cat_test, drop_first= True)"
   ]
  },
  {
   "cell_type": "markdown",
   "metadata": {
    "pycharm": {
     "name": "#%% md\n"
    }
   },
   "source": [
    "Concatenating the Original Dataset & the One after creating Dummies(get_dummies() creates a new DF containing JUST the dummies"
   ]
  },
  {
   "cell_type": "code",
   "execution_count": 14,
   "metadata": {
    "pycharm": {
     "name": "#%%\n"
    }
   },
   "outputs": [],
   "source": [
    "train_df_clean=pd.concat([train_df,train_cat_dumm],axis=1)\n",
    "test_df_clean=pd.concat([test_df,test_cat_dumm],axis=1)"
   ]
  },
  {
   "cell_type": "markdown",
   "metadata": {
    "pycharm": {
     "name": "#%% md\n"
    }
   },
   "source": [
    "Dropping the columns already concatenated after Get_Dummies()"
   ]
  },
  {
   "cell_type": "code",
   "execution_count": 15,
   "metadata": {
    "pycharm": {
     "name": "#%%\n"
    }
   },
   "outputs": [],
   "source": [
    "train_df_clean=train_df_clean.drop(cat_train,axis=1)\n",
    "test_df_clean=test_df_clean.drop(cat_test,axis=1)"
   ]
  },
  {
   "cell_type": "markdown",
   "metadata": {
    "pycharm": {
     "name": "#%% md\n"
    }
   },
   "source": [
    "Splitting data frames in independent x and dependent y"
   ]
  },
  {
   "cell_type": "code",
   "execution_count": 17,
   "metadata": {
    "pycharm": {
     "name": "#%%\n"
    }
   },
   "outputs": [],
   "source": [
    "x_train_df=train_df_clean\n",
    "\n",
    "x_test_df=test_df_clean"
   ]
  },
  {
   "cell_type": "markdown",
   "metadata": {
    "pycharm": {
     "name": "#%% md\n"
    }
   },
   "source": [
    "Splitting the data frane into test and training data"
   ]
  },
  {
   "cell_type": "code",
   "execution_count": 18,
   "metadata": {
    "pycharm": {
     "name": "#%%\n"
    }
   },
   "outputs": [],
   "source": [
    "X_train, X_test, y_train, y_test = train_test_split(x_train_df, y_train_df, test_size=0.25)\n",
    "# y_train"
   ]
  },
  {
   "cell_type": "markdown",
   "metadata": {
    "pycharm": {
     "name": "#%% md\n"
    }
   },
   "source": [
    "Building a regression model"
   ]
  },
  {
   "cell_type": "code",
   "execution_count": 19,
   "metadata": {
    "pycharm": {
     "name": "#%%\n"
    }
   },
   "outputs": [
    {
     "name": "stderr",
     "output_type": "stream",
     "text": [
      "D:\\Users\\Dante\\anaconda3\\envs\\pythonProject\\lib\\site-packages\\sklearn\\utils\\validation.py:72: DataConversionWarning: A column-vector y was passed when a 1d array was expected. Please change the shape of y to (n_samples, ), for example using ravel().\n",
      "  return f(**kwargs)\n"
     ]
    },
    {
     "data": {
      "text/plain": "GradientBoostingRegressor(random_state=0)"
     },
     "execution_count": 19,
     "metadata": {},
     "output_type": "execute_result"
    }
   ],
   "source": [
    "reg=GradientBoostingRegressor(random_state=0)\n",
    "reg.fit(X_train,y_train)"
   ]
  },
  {
   "cell_type": "markdown",
   "metadata": {
    "pycharm": {
     "name": "#%% md\n"
    }
   },
   "source": [
    "Checking the variance score of the model"
   ]
  },
  {
   "cell_type": "code",
   "execution_count": 20,
   "metadata": {
    "pycharm": {
     "name": "#%%\n"
    }
   },
   "outputs": [
    {
     "name": "stdout",
     "output_type": "stream",
     "text": [
      "Variance score: 0.87\n"
     ]
    }
   ],
   "source": [
    "print('Variance score: %.2f' % reg.score(X_test, y_test))"
   ]
  },
  {
   "cell_type": "markdown",
   "metadata": {
    "pycharm": {
     "name": "#%% md\n"
    }
   },
   "source": [
    "Fit the complete train dateset in the model to get the prediction for the test dataset"
   ]
  },
  {
   "cell_type": "code",
   "execution_count": 21,
   "metadata": {
    "pycharm": {
     "name": "#%%\n"
    }
   },
   "outputs": [
    {
     "name": "stderr",
     "output_type": "stream",
     "text": [
      "D:\\Users\\Dante\\anaconda3\\envs\\pythonProject\\lib\\site-packages\\sklearn\\utils\\validation.py:72: DataConversionWarning: A column-vector y was passed when a 1d array was expected. Please change the shape of y to (n_samples, ), for example using ravel().\n",
      "  return f(**kwargs)\n"
     ]
    },
    {
     "data": {
      "text/plain": "GradientBoostingRegressor(random_state=0)"
     },
     "execution_count": 21,
     "metadata": {},
     "output_type": "execute_result"
    }
   ],
   "source": [
    "reg=GradientBoostingRegressor(random_state=0)\n",
    "reg.fit(x_train_df,y_train_df)"
   ]
  },
  {
   "cell_type": "markdown",
   "metadata": {
    "pycharm": {
     "name": "#%% md\n"
    }
   },
   "source": [
    "Getting the prediction of the prices for the test dataframe"
   ]
  },
  {
   "cell_type": "code",
   "execution_count": 23,
   "metadata": {
    "pycharm": {
     "name": "#%%\n"
    }
   },
   "outputs": [],
   "source": [
    "predictions= reg.predict(x_test_df)"
   ]
  },
  {
   "cell_type": "markdown",
   "metadata": {},
   "source": [
    "Checking the variance score of the model with the test dataset"
   ]
  },
  {
   "cell_type": "code",
   "execution_count": 24,
   "metadata": {
    "pycharm": {
     "name": "#%%\n"
    }
   },
   "outputs": [
    {
     "name": "stdout",
     "output_type": "stream",
     "text": [
      "Variance score: 1.00\n"
     ]
    }
   ],
   "source": [
    "print('Variance score: %.2f' % reg.score(x_test_df, predictions))"
   ]
  },
  {
   "cell_type": "markdown",
   "metadata": {
    "pycharm": {
     "name": "#%% md\n"
    }
   },
   "source": [
    "Now that we have the prediction of the prices we can add them to the dataset"
   ]
  },
  {
   "cell_type": "code",
   "execution_count": 25,
   "metadata": {
    "pycharm": {
     "name": "#%%\n"
    }
   },
   "outputs": [
    {
     "data": {
      "text/plain": "   MSSubClass  LotFrontage  LotArea Street LotShape LandContour LotConfig  \\\n0          20         80.0    11622   Pave      Reg         Lvl    Inside   \n1          20         81.0    14267   Pave      IR1         Lvl    Corner   \n2          60         74.0    13830   Pave      IR1         Lvl    Inside   \n3          60         78.0     9978   Pave      IR1         Lvl    Inside   \n4         120         43.0     5005   Pave      IR1         HLS    Inside   \n\n  LandSlope Neighborhood Condition1  ... OpenPorchSF  EnclosedPorch  \\\n0       Gtl        NAmes      Feedr  ...           0              0   \n1       Gtl        NAmes       Norm  ...          36              0   \n2       Gtl      Gilbert       Norm  ...          34              0   \n3       Gtl      Gilbert       Norm  ...          36              0   \n4       Gtl      StoneBr       Norm  ...          82              0   \n\n   3SsnPorch  ScreenPorch  PoolArea MiscVal  MoSold YrSold SaleCondition  \\\n0          0          120         0       0       6   2010        Normal   \n1          0            0         0   12500       6   2010        Normal   \n2          0            0         0       0       3   2010        Normal   \n3          0            0         0       0       6   2010        Normal   \n4          0          144         0       0       1   2010        Normal   \n\n       SalePrice  \n0  124292.259731  \n1  157212.249602  \n2  177159.431107  \n3  182888.854813  \n4  191495.621211  \n\n[5 rows x 62 columns]",
      "text/html": "<div>\n<style scoped>\n    .dataframe tbody tr th:only-of-type {\n        vertical-align: middle;\n    }\n\n    .dataframe tbody tr th {\n        vertical-align: top;\n    }\n\n    .dataframe thead th {\n        text-align: right;\n    }\n</style>\n<table border=\"1\" class=\"dataframe\">\n  <thead>\n    <tr style=\"text-align: right;\">\n      <th></th>\n      <th>MSSubClass</th>\n      <th>LotFrontage</th>\n      <th>LotArea</th>\n      <th>Street</th>\n      <th>LotShape</th>\n      <th>LandContour</th>\n      <th>LotConfig</th>\n      <th>LandSlope</th>\n      <th>Neighborhood</th>\n      <th>Condition1</th>\n      <th>...</th>\n      <th>OpenPorchSF</th>\n      <th>EnclosedPorch</th>\n      <th>3SsnPorch</th>\n      <th>ScreenPorch</th>\n      <th>PoolArea</th>\n      <th>MiscVal</th>\n      <th>MoSold</th>\n      <th>YrSold</th>\n      <th>SaleCondition</th>\n      <th>SalePrice</th>\n    </tr>\n  </thead>\n  <tbody>\n    <tr>\n      <th>0</th>\n      <td>20</td>\n      <td>80.0</td>\n      <td>11622</td>\n      <td>Pave</td>\n      <td>Reg</td>\n      <td>Lvl</td>\n      <td>Inside</td>\n      <td>Gtl</td>\n      <td>NAmes</td>\n      <td>Feedr</td>\n      <td>...</td>\n      <td>0</td>\n      <td>0</td>\n      <td>0</td>\n      <td>120</td>\n      <td>0</td>\n      <td>0</td>\n      <td>6</td>\n      <td>2010</td>\n      <td>Normal</td>\n      <td>124292.259731</td>\n    </tr>\n    <tr>\n      <th>1</th>\n      <td>20</td>\n      <td>81.0</td>\n      <td>14267</td>\n      <td>Pave</td>\n      <td>IR1</td>\n      <td>Lvl</td>\n      <td>Corner</td>\n      <td>Gtl</td>\n      <td>NAmes</td>\n      <td>Norm</td>\n      <td>...</td>\n      <td>36</td>\n      <td>0</td>\n      <td>0</td>\n      <td>0</td>\n      <td>0</td>\n      <td>12500</td>\n      <td>6</td>\n      <td>2010</td>\n      <td>Normal</td>\n      <td>157212.249602</td>\n    </tr>\n    <tr>\n      <th>2</th>\n      <td>60</td>\n      <td>74.0</td>\n      <td>13830</td>\n      <td>Pave</td>\n      <td>IR1</td>\n      <td>Lvl</td>\n      <td>Inside</td>\n      <td>Gtl</td>\n      <td>Gilbert</td>\n      <td>Norm</td>\n      <td>...</td>\n      <td>34</td>\n      <td>0</td>\n      <td>0</td>\n      <td>0</td>\n      <td>0</td>\n      <td>0</td>\n      <td>3</td>\n      <td>2010</td>\n      <td>Normal</td>\n      <td>177159.431107</td>\n    </tr>\n    <tr>\n      <th>3</th>\n      <td>60</td>\n      <td>78.0</td>\n      <td>9978</td>\n      <td>Pave</td>\n      <td>IR1</td>\n      <td>Lvl</td>\n      <td>Inside</td>\n      <td>Gtl</td>\n      <td>Gilbert</td>\n      <td>Norm</td>\n      <td>...</td>\n      <td>36</td>\n      <td>0</td>\n      <td>0</td>\n      <td>0</td>\n      <td>0</td>\n      <td>0</td>\n      <td>6</td>\n      <td>2010</td>\n      <td>Normal</td>\n      <td>182888.854813</td>\n    </tr>\n    <tr>\n      <th>4</th>\n      <td>120</td>\n      <td>43.0</td>\n      <td>5005</td>\n      <td>Pave</td>\n      <td>IR1</td>\n      <td>HLS</td>\n      <td>Inside</td>\n      <td>Gtl</td>\n      <td>StoneBr</td>\n      <td>Norm</td>\n      <td>...</td>\n      <td>82</td>\n      <td>0</td>\n      <td>0</td>\n      <td>144</td>\n      <td>0</td>\n      <td>0</td>\n      <td>1</td>\n      <td>2010</td>\n      <td>Normal</td>\n      <td>191495.621211</td>\n    </tr>\n  </tbody>\n</table>\n<p>5 rows × 62 columns</p>\n</div>"
     },
     "execution_count": 25,
     "metadata": {},
     "output_type": "execute_result"
    }
   ],
   "source": [
    "neighborhood_df = test_df.loc[:]\n",
    "neighborhood_df['SalePrice'] = predictions\n",
    "neighborhood_df.head()"
   ]
  },
  {
   "cell_type": "markdown",
   "metadata": {
    "pycharm": {
     "name": "#%% md\n"
    }
   },
   "source": [
    "Filtering the dataset in the price range"
   ]
  },
  {
   "cell_type": "code",
   "execution_count": 26,
   "metadata": {
    "pycharm": {
     "name": "#%%\n"
    }
   },
   "outputs": [
    {
     "data": {
      "text/plain": "(1145, 62)"
     },
     "execution_count": 26,
     "metadata": {},
     "output_type": "execute_result"
    }
   ],
   "source": [
    "range_price_df = neighborhood_df[(neighborhood_df['SalePrice']<=250000) & (neighborhood_df['SalePrice']>=100000) ]\n",
    "range_price_df.shape"
   ]
  },
  {
   "cell_type": "markdown",
   "source": [
    "Making a dataframe with the count of each Neighborhood"
   ],
   "metadata": {
    "collapsed": false,
    "pycharm": {
     "name": "#%% md\n"
    }
   }
  },
  {
   "cell_type": "code",
   "execution_count": 27,
   "metadata": {
    "pycharm": {
     "name": "#%%\n"
    }
   },
   "outputs": [
    {
     "data": {
      "text/plain": "              Neighborhood\nNeighborhood              \nBlmngtn                 11\nBlueste                  8\nBrDale                   9\nBrkSide                 42\nClearCr                 15",
      "text/html": "<div>\n<style scoped>\n    .dataframe tbody tr th:only-of-type {\n        vertical-align: middle;\n    }\n\n    .dataframe tbody tr th {\n        vertical-align: top;\n    }\n\n    .dataframe thead th {\n        text-align: right;\n    }\n</style>\n<table border=\"1\" class=\"dataframe\">\n  <thead>\n    <tr style=\"text-align: right;\">\n      <th></th>\n      <th>Neighborhood</th>\n    </tr>\n    <tr>\n      <th>Neighborhood</th>\n      <th></th>\n    </tr>\n  </thead>\n  <tbody>\n    <tr>\n      <th>Blmngtn</th>\n      <td>11</td>\n    </tr>\n    <tr>\n      <th>Blueste</th>\n      <td>8</td>\n    </tr>\n    <tr>\n      <th>BrDale</th>\n      <td>9</td>\n    </tr>\n    <tr>\n      <th>BrkSide</th>\n      <td>42</td>\n    </tr>\n    <tr>\n      <th>ClearCr</th>\n      <td>15</td>\n    </tr>\n  </tbody>\n</table>\n</div>"
     },
     "execution_count": 27,
     "metadata": {},
     "output_type": "execute_result"
    }
   ],
   "source": [
    "neighborhood_homes_price = pd.DataFrame(data=range_price_df.groupby(['Neighborhood'])['Neighborhood'].count())"
   ]
  },
  {
   "cell_type": "code",
   "execution_count": 28,
   "metadata": {
    "pycharm": {
     "name": "#%%\n"
    }
   },
   "outputs": [],
   "source": [
    "neighborhood_homes_price['Offers'] = neighborhood_homes_price[['Neighborhood']]\n",
    "neighborhood_homes_price = neighborhood_homes_price.drop(['Neighborhood'],axis=1)"
   ]
  },
  {
   "cell_type": "markdown",
   "source": [
    "Sorting the dataframe by the count of offers on the Neighborhood"
   ],
   "metadata": {
    "collapsed": false,
    "pycharm": {
     "name": "#%% md\n"
    }
   }
  },
  {
   "cell_type": "code",
   "execution_count": 29,
   "metadata": {
    "pycharm": {
     "name": "#%%\n"
    }
   },
   "outputs": [
    {
     "data": {
      "text/plain": "              Offers\nNeighborhood        \nNAmes            213\nCollgCr           95\nOldTown           95\nGilbert           79\nEdwards           76",
      "text/html": "<div>\n<style scoped>\n    .dataframe tbody tr th:only-of-type {\n        vertical-align: middle;\n    }\n\n    .dataframe tbody tr th {\n        vertical-align: top;\n    }\n\n    .dataframe thead th {\n        text-align: right;\n    }\n</style>\n<table border=\"1\" class=\"dataframe\">\n  <thead>\n    <tr style=\"text-align: right;\">\n      <th></th>\n      <th>Offers</th>\n    </tr>\n    <tr>\n      <th>Neighborhood</th>\n      <th></th>\n    </tr>\n  </thead>\n  <tbody>\n    <tr>\n      <th>NAmes</th>\n      <td>213</td>\n    </tr>\n    <tr>\n      <th>CollgCr</th>\n      <td>95</td>\n    </tr>\n    <tr>\n      <th>OldTown</th>\n      <td>95</td>\n    </tr>\n    <tr>\n      <th>Gilbert</th>\n      <td>79</td>\n    </tr>\n    <tr>\n      <th>Edwards</th>\n      <td>76</td>\n    </tr>\n  </tbody>\n</table>\n</div>"
     },
     "execution_count": 29,
     "metadata": {},
     "output_type": "execute_result"
    }
   ],
   "source": [
    "neighborhood_homes_price.sort_values(ascending=False,by=['Offers']).head()"
   ]
  },
  {
   "cell_type": "markdown",
   "source": [
    "Display of a visual graphic for the previews dataframe"
   ],
   "metadata": {
    "collapsed": false,
    "pycharm": {
     "name": "#%% md\n"
    }
   }
  },
  {
   "cell_type": "code",
   "execution_count": 30,
   "metadata": {
    "pycharm": {
     "name": "#%%\n"
    }
   },
   "outputs": [
    {
     "data": {
      "text/plain": "<Figure size 432x288 with 1 Axes>",
      "image/png": "[encoded data removed]"
     },
     "metadata": {
      "needs_background": "light"
     },
     "output_type": "display_data"
    }
   ],
   "source": [
    "neighborhood_homes_price.plot(kind='bar')\n",
    "\n",
    "plt.title(\"Neighborhood with more houses offers in price range $250k-$100k\")\n",
    "plt.xlabel(\"Neighborhood\")\n",
    "plt.ylabel(\"House offers\")\n",
    "plt.show()"
   ]
  },
  {
   "cell_type": "markdown",
   "metadata": {
    "pycharm": {
     "name": "#%% md\n"
    }
   },
   "source": [
    "**Code**  |  **Neighborhood Name**\n",
    "--- | ---\n",
    "Blmngtn  | \tBloomington Heights\n",
    "Blueste  | \tBluestem\n",
    "BrDale  | \tBriardale\n",
    "BrkSide  | \tBrookside\n",
    "ClearCr  | \tClear Creek\n",
    "CollgCr  | \tCollege Creek\n",
    "Crawfor  | \tCrawford\n",
    "Edwards  | \tEdwards\n",
    "Gilbert  | \tGilbert\n",
    "IDOTRR  | \tIowa DOT and Rail Road\n",
    "MeadowV  | \tMeadow Village\n",
    "Mitchel  | \tMitchell\n",
    "Names  | \tNorth Ames\n",
    "NoRidge  | \tNorthridge\n",
    "NPkVill  | \tNorthpark Villa\n",
    "NridgHt  | \tNorthridge Heights\n",
    "NWAmes  | \tNorthwest Ames\n",
    "OldTown  | \tOld Town\n",
    "SWISU  | \tSouth & West of Iowa State University\n",
    "Sawyer  | \tSawyer\n",
    "SawyerW  | \tSawyer West\n",
    "Somerst  | \tSomerset\n",
    "StoneBr  | \tStone Brook\n",
    "Timber  | \tTimberland\n",
    "Veenker  | \tVeenker\n"
   ]
  },
  {
   "cell_type": "markdown",
   "metadata": {},
   "source": [
    "# Results\n",
    "As we can see on the result the best neighborhood to look for houses offers at price range 250k-100k is **North Ames**, since it has **214** offers."
   ]
  },
  {
   "cell_type": "markdown",
   "source": [
    "# Conclusion\n",
    "In this study, we manage to predict the prices of a set of house offerted and form there we were able to focus on a neighborhood that have more offers in our price range.\n",
    "section where you conclude the report.\n",
    "\n",
    "\n"
   ],
   "metadata": {
    "collapsed": false,
    "pycharm": {
     "name": "#%% md\n"
    }
   }
  }
 ],
 "metadata": {
  "kernelspec": {
   "display_name": "Python 3",
   "language": "python",
   "name": "python3"
  },
  "language_info": {
   "codemirror_mode": {
    "name": "ipython",
    "version": 3
   },
   "file_extension": ".py",
   "mimetype": "text/x-python",
   "name": "python",
   "nbconvert_exporter": "python",
   "pygments_lexer": "ipython3",
   "version": "3.8.5"
  }
 },
 "nbformat": 4,
 "nbformat_minor": 1
}