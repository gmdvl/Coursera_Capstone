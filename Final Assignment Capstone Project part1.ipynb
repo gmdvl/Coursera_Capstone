{
 "cells": [
  {
   "cell_type": "markdown",
   "source": [
    "# 1. Introduction\n",
    "## Problem\n",
    "We are interest in know the sales price of residential homes in Ames, Iowa giving the homes attributes."
   ],
   "metadata": {
    "collapsed": false,
    "pycharm": {
     "name": "#%% md\n"
    }
   }
  },
  {
   "cell_type": "markdown",
   "source": [
    "# 2. Data acquisition and cleaning\n",
    "\n",
    "## Data source\n",
    "For this project we need the following data that we could get from kaggle in this [link](https://www.kaggle.com/c/house-prices-advanced-regression-techniques/data), which contains all base data that we need."
   ],
   "metadata": {
    "collapsed": false
   }
  }
 ],
 "metadata": {
  "kernelspec": {
   "display_name": "Python 3",
   "language": "python",
   "name": "python3"
  },
  "language_info": {
   "codemirror_mode": {
    "name": "ipython",
    "version": 2
   },
   "file_extension": ".py",
   "mimetype": "text/x-python",
   "name": "python",
   "nbconvert_exporter": "python",
   "pygments_lexer": "ipython2",
   "version": "2.7.6"
  }
 },
 "nbformat": 4,
 "nbformat_minor": 0
}